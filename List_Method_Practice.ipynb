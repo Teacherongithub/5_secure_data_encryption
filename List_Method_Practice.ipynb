{
  "nbformat": 4,
  "nbformat_minor": 0,
  "metadata": {
    "colab": {
      "provenance": [],
      "authorship_tag": "ABX9TyPWj55wWSp067yHT3YaGKpi",
      "include_colab_link": true
    },
    "kernelspec": {
      "name": "python3",
      "display_name": "Python 3"
    },
    "language_info": {
      "name": "python"
    }
  },
  "cells": [
    {
      "cell_type": "markdown",
      "metadata": {
        "id": "view-in-github",
        "colab_type": "text"
      },
      "source": [
        "<a href=\"https://colab.research.google.com/github/Teacherongithub/5_secure_data_encryption/blob/main/List_Method_Practice.ipynb\" target=\"_parent\"><img src=\"https://colab.research.google.com/assets/colab-badge.svg\" alt=\"Open In Colab\"/></a>"
      ]
    },
    {
      "cell_type": "code",
      "execution_count": null,
      "metadata": {
        "colab": {
          "base_uri": "https://localhost:8080/"
        },
        "id": "rL0C-DMIcTbz",
        "outputId": "6fbd9e70-0508-4263-f1ab-bde78561ab35"
      },
      "outputs": [
        {
          "output_type": "stream",
          "name": "stdout",
          "text": [
            "['apple', 'banana', 'orange']\n",
            "['apple', 'banana', 'orange', 'grapes']\n",
            "['mango', 'apple', 'banana', 'orange', 'grapes']\n",
            "['mango', 'mango', 'apple', 'banana', 'orange', 'grapes']\n",
            "['mango', 'mango', 'apple', 'orange', 'grapes']\n"
          ]
        }
      ],
      "source": [
        "# 1-Create and modify list\n",
        "# create a fruits list\n",
        "fruits = [\"apple\", \"banana\", \"orange\"]\n",
        "print(fruits)\n",
        "\n",
        "# add \"grapes\" at the end of the list\n",
        "fruits.append(\"grapes\")\n",
        "print(fruits)\n",
        "\n",
        "# add mango at the beginning of the list\n",
        "fruits.insert(0, \"mango\")\n",
        "print(fruits)\n",
        "\n",
        "#insert \"mango\" at the position 2 (index 1)\n",
        "fruits.insert(1, \"mango\")\n",
        "print(fruits)\n",
        "\n",
        "#Remove \"banana\" from the list\n",
        "fruits.remove(\"banana\")\n",
        "\n",
        "\n",
        "#print the updated fruits list\n",
        "print(fruits)"
      ]
    },
    {
      "cell_type": "code",
      "source": [
        "# 2-List Operations\n",
        "#Create a list mehtod\n",
        "numbers = [10,20,30,40,50]\n",
        "print(numbers)\n",
        "\n",
        "#Create second list more_numbers\n",
        "more_numbers = [60,70,80]\n",
        "print(more_numbers)\n",
        "\n",
        "#Combine both list into a new list called all_numbers\n",
        "all_numbers = numbers + more_numbers\n",
        "print(all_numbers)\n",
        "\n",
        "#Make a copy of all_numbers and called numbers_copy\n",
        "numbers_copy = all_numbers.copy()\n",
        "print(numbers_copy)\n",
        "\n",
        "#Reverse the order of numbers_copy\n",
        "numbers_copy.reverse()\n",
        "print(numbers_copy)\n",
        "\n",
        "#Print both lists all_numbers and numbers_copy\n",
        "print(all_numbers)\n",
        "print(numbers_copy)\n"
      ],
      "metadata": {
        "colab": {
          "base_uri": "https://localhost:8080/"
        },
        "id": "BB12BdZxemQJ",
        "outputId": "93fe2904-f56e-481d-8de5-bf9f5913be95"
      },
      "execution_count": null,
      "outputs": [
        {
          "output_type": "stream",
          "name": "stdout",
          "text": [
            "[10, 20, 30, 40, 50]\n",
            "[60, 70, 80]\n",
            "[10, 20, 30, 40, 50, 60, 70, 80]\n",
            "[10, 20, 30, 40, 50, 60, 70, 80]\n",
            "[80, 70, 60, 50, 40, 30, 20, 10]\n",
            "[10, 20, 30, 40, 50, 60, 70, 80]\n",
            "[80, 70, 60, 50, 40, 30, 20, 10]\n"
          ]
        }
      ]
    },
    {
      "cell_type": "code",
      "source": [
        "#3- Sorting and Counting\n",
        "#Create a list scores\n",
        "scores = [85,92,78,65,92,85,74]\n",
        "print(scores)\n",
        "\n",
        "#Sort the list in ascending order\n",
        "scores.sort()\n",
        "print(scores)\n",
        "\n",
        "#Print the ascending sorted list (for refenece)\n",
        "print(\"Ascending order:\", scores )\n",
        "\n",
        "#Sort the list in descending order\n",
        "scores.sort(reverse=True)\n",
        "print(scores)\n",
        "\n",
        "#Count how many time (92) appears in the list\n",
        "count_92 = scores.count(92)\n",
        "print(\"Number of times 92 appears:\", count_92)\n",
        "\n",
        "#Find the highest and lowest scores\n",
        "highest_score = max(scores)\n",
        "lowest_score = min(scores)\n",
        "print(\"Highest score:\", highest_score)\n",
        "print(\"Lowest score:\", lowest_score)\n",
        "\n"
      ],
      "metadata": {
        "colab": {
          "base_uri": "https://localhost:8080/"
        },
        "id": "ln5-nD4_hxI4",
        "outputId": "bb89aeb1-0c10-4b47-b817-5311f3b0538b"
      },
      "execution_count": null,
      "outputs": [
        {
          "output_type": "stream",
          "name": "stdout",
          "text": [
            "[85, 92, 78, 65, 92, 85, 74]\n",
            "[65, 74, 78, 85, 85, 92, 92]\n",
            "Ascending order: [65, 74, 78, 85, 85, 92, 92]\n",
            "[92, 92, 85, 85, 78, 74, 65]\n",
            "Number of times 92 appears: 2\n",
            "Highest score: 92\n",
            "Lowest score: 65\n"
          ]
        }
      ]
    },
    {
      "cell_type": "code",
      "source": [
        "#4-List Manipulation\n",
        "#Create a list of letters\n",
        "letters = ['a', 'b', 'c', 'd', 'e']\n",
        "print(letters)\n",
        "\n",
        "#Use slicing to create a new list with only the first three letters\n",
        "first_three_letters = letters[:3]\n",
        "print(first_three_letters)\n",
        "\n",
        "#Use slice to create another list with only the last two letters\n",
        "last_two_letters = letters[-2:]\n",
        "print(last_two_letters)\n",
        "\n",
        "#Find the index of letter \"c\"\n",
        "c_index = letters.index('c')\n",
        "print(\"Index of letter 'c':\", c_index)\n",
        "\n",
        "#Replace \"d\" with the letter \"z\" in the original list\n",
        "letters[3] = 'z'\n",
        "print(letters)\n",
        "\n",
        "#Print the original list\n",
        "print(letters)\n",
        "\n"
      ],
      "metadata": {
        "colab": {
          "base_uri": "https://localhost:8080/"
        },
        "id": "__qyJan3kKnQ",
        "outputId": "d2be1f24-649a-4fa6-f02c-d37787f93dc7"
      },
      "execution_count": null,
      "outputs": [
        {
          "output_type": "stream",
          "name": "stdout",
          "text": [
            "['a', 'b', 'c', 'd', 'e']\n",
            "['a', 'b', 'c']\n",
            "['d', 'e']\n",
            "Index of letter 'c': 2\n",
            "['a', 'b', 'c', 'z', 'e']\n",
            "['a', 'b', 'c', 'z', 'e']\n"
          ]
        }
      ]
    },
    {
      "cell_type": "code",
      "source": [
        "# Task 2\n",
        "# 1- Create and Access Dictionaries\n",
        "# Create the Dictionary\n",
        "student = {\n",
        "    \"name\": \"John\",\n",
        "    \"age\": 20,\n",
        "    \"grade\": \"A\",\n",
        "    \"Course\": [\"Math\", \"Science\", \"History\"]\n",
        "}\n",
        "#print the student's name\n",
        "print(student[\"name\"])\n",
        "\n",
        "#print courses list\n",
        "print(student[\"Course\"])\n",
        "\n",
        "#add a new key_value pair for email\n",
        "student[\"email\"] = \"john@example.com\"\n",
        "print(student)\n",
        "\n",
        "#print entire dictionary\n",
        "print(\"Student Dictionary\", student)"
      ],
      "metadata": {
        "colab": {
          "base_uri": "https://localhost:8080/"
        },
        "id": "EqynxlHxxQKd",
        "outputId": "32e1b639-2430-4f5a-b818-017e3856edec"
      },
      "execution_count": null,
      "outputs": [
        {
          "output_type": "stream",
          "name": "stdout",
          "text": [
            "John\n",
            "['Math', 'Science', 'History']\n",
            "{'name': 'John', 'age': 20, 'grade': 'A', 'Course': ['Math', 'Science', 'History'], 'email': 'john@example.com'}\n",
            "Student Dictionary {'name': 'John', 'age': 20, 'grade': 'A', 'Course': ['Math', 'Science', 'History'], 'email': 'john@example.com'}\n"
          ]
        }
      ]
    },
    {
      "cell_type": "code",
      "source": [
        "#2- Modify Dictionary Values\n",
        "#Modify student's age\n",
        "student[\"age\"] = 21\n",
        "\n",
        "#Add a new course in Courses List\n",
        "student[\"Course\"].append(\"Computer Science\")\n",
        "\n",
        "#Update the grade\n",
        "student[\"grade\"] = \"A+\"\n",
        "\n",
        "#print the modify dictionary\n",
        "print(\"Modify Student's Dictionay:\",student)\n"
      ],
      "metadata": {
        "colab": {
          "base_uri": "https://localhost:8080/"
        },
        "id": "0YG-iqcU3hO0",
        "outputId": "8e404c22-b3e1-481f-a42b-397f6d80e8b3"
      },
      "execution_count": null,
      "outputs": [
        {
          "output_type": "stream",
          "name": "stdout",
          "text": [
            "Modify Student's Dictionay: {'name': 'John', 'age': 21, 'grade': 'A+', 'Course': ['Math', 'Science', 'History', 'Computer Science'], 'email': 'john@example.com'}\n"
          ]
        }
      ]
    },
    {
      "cell_type": "code",
      "source": [
        "#3- Dctionary Operation\n",
        "#Create a second dictionary\n",
        "student_address = {\n",
        "    \"street\": \"123 College Ave\",\n",
        "    \"city\": \"New York\",\n",
        "    \"zip\": \"10001\"\n",
        "}\n",
        "\n",
        "# Combine both dictionaries into a new one\n",
        "student_info = {**student, **student_address}\n",
        "\n",
        "# Remove the \"zip\" key\n",
        "student_info.pop(\"zip\", None)\n",
        "\n",
        "# Check if \"phone\" exists in the dictionary\n",
        "has_phone = \"phone\" in student_info\n",
        "print(\"Phone key exists:\", has_phone)\n",
        "\n",
        "# Print the final dictionary\n",
        "print(\"Final Student Info Dictionary:\", student_info)"
      ],
      "metadata": {
        "colab": {
          "base_uri": "https://localhost:8080/"
        },
        "id": "JF-CQAfS51eM",
        "outputId": "aef5ad92-3b72-4af3-b14a-b8a779c57fd5"
      },
      "execution_count": null,
      "outputs": [
        {
          "output_type": "stream",
          "name": "stdout",
          "text": [
            "Phone key exists: False\n",
            "Final Student Info Dictionary: {'name': 'John', 'age': 21, 'grade': 'A+', 'Course': ['Math', 'Science', 'History', 'Computer Science'], 'email': 'john@example.com', 'street': '123 College Ave', 'city': 'New York'}\n"
          ]
        }
      ]
    },
    {
      "cell_type": "code",
      "source": [
        "#4. Dictionary Methods\n",
        "# Create a dictionary word_count with these key-value pairs\n",
        "# Create the dictionary\n",
        "word_count = {\n",
        "    \"hello\": 5,\n",
        "    \"world\": 10,\n",
        "    \"python\": 15\n",
        "}\n",
        "\n",
        "# Get all keys and print them as a list\n",
        "keys_list = list(word_count.keys())\n",
        "print(\"Keys:\", keys_list)\n",
        "\n",
        "# Get all values and print them as a list\n",
        "values_list = list(word_count.values())\n",
        "print(\"Values:\", values_list)\n",
        "\n",
        "# Get all key-value pairs and print them\n",
        "items_list = list(word_count.items())\n",
        "print(\"Key-Value Pairs:\", items_list)\n",
        "\n",
        "# Make a copy of the dictionary\n",
        "word_count_copy = word_count.copy()\n",
        "\n",
        "# Clear the original dictionary\n",
        "word_count.clear()\n",
        "\n",
        "# Print both dictionaries\n",
        "print(\"Original Dictionary after clear:\", word_count)\n",
        "print(\"Copied Dictionary:\", word_count_copy)\n"
      ],
      "metadata": {
        "colab": {
          "base_uri": "https://localhost:8080/"
        },
        "id": "ENUMCbhy7F1p",
        "outputId": "8a9eab01-86a6-47cd-ff74-63f99fcdfdb1"
      },
      "execution_count": null,
      "outputs": [
        {
          "output_type": "stream",
          "name": "stdout",
          "text": [
            "Keys: ['hello', 'world', 'python']\n",
            "Values: [5, 10, 15]\n",
            "Key-Value Pairs: [('hello', 5), ('world', 10), ('python', 15)]\n",
            "Original Dictionary after clear: {}\n",
            "Copied Dictionary: {'hello': 5, 'world': 10, 'python': 15}\n"
          ]
        }
      ]
    },
    {
      "cell_type": "code",
      "source": [
        "#Shopping Discount Calculator\n",
        "#Task 1\n",
        "# Task 1: Set up the initial variables\n",
        "\n",
        "# Total cost of items in the shopping cart\n",
        "purchase_amount = 150.75\n",
        "\n",
        "# Whether the customer is a loyalty member\n",
        "is_loyalty_member = True\n",
        "\n",
        "# Current day of the week\n",
        "day_of_week = \"Saturday\"\n",
        "\n",
        "# Whether it's the holiday shopping season\n",
        "is_holiday_season = False\n",
        "\n",
        "# Print out to verify the values\n",
        "print(\"Purchase Amount:\", purchase_amount)\n",
        "print(\"Loyalty Member:\", is_loyalty_member)\n",
        "print(\"Day of Week:\", day_of_week)\n",
        "print(\"Holiday Season:\", is_holiday_season)\n"
      ],
      "metadata": {
        "colab": {
          "base_uri": "https://localhost:8080/"
        },
        "id": "siOvmACZh3l-",
        "outputId": "d27244ba-768c-4534-ee2b-6026dc37b222"
      },
      "execution_count": null,
      "outputs": [
        {
          "output_type": "stream",
          "name": "stdout",
          "text": [
            "Purchase Amount: 150.75\n",
            "Loyalty Member: True\n",
            "Day of Week: Saturday\n",
            "Holiday Season: False\n"
          ]
        }
      ]
    },
    {
      "cell_type": "code",
      "source": [
        "#2. Apply discount rules using if statements:\n",
        "# Initial variables\n",
        "purchase_amount = 150.75\n",
        "is_loyalty_member = True\n",
        "day_of_week = \"Saturday\"\n",
        "is_holiday_season = False\n",
        "\n",
        "# Base discount\n",
        "discount = 0.0\n",
        "\n",
        "# Apply base discount based on purchase amount\n",
        "if purchase_amount > 100:\n",
        "    discount += 0.10  # 10% discount\n",
        "elif purchase_amount > 50:\n",
        "    discount += 0.05  # 5% discount\n",
        "\n",
        "# Additional discounts\n",
        "if is_loyalty_member:\n",
        "    discount += 0.05  # 5% for loyalty members\n",
        "\n",
        "if day_of_week in [\"Saturday\", \"Sunday\"]:\n",
        "    discount += 0.02  # 2% for weekends\n",
        "\n",
        "if is_holiday_season:\n",
        "    discount += 0.08  # 8% for holiday season\n",
        "\n",
        "# Calculate final amount\n",
        "discount_amount = purchase_amount * discount\n",
        "final_price = purchase_amount - discount_amount\n",
        "\n",
        "# Output\n",
        "print(f\"Initial Purchase Amount: ${purchase_amount:.2f}\")\n",
        "print(f\"Total Discount: {discount * 100:.1f}%\")\n",
        "print(f\"Discount Amount: ${discount_amount:.2f}\")\n",
        "print(f\"Final Price After Discounts: ${final_price:.2f}\")\n"
      ],
      "metadata": {
        "colab": {
          "base_uri": "https://localhost:8080/"
        },
        "id": "AI2HUJsfiiEc",
        "outputId": "f26c034d-0826-4a30-8ade-26f03ab26383"
      },
      "execution_count": null,
      "outputs": [
        {
          "output_type": "stream",
          "name": "stdout",
          "text": [
            "Initial Purchase Amount: $150.75\n",
            "Total Discount: 17.0%\n",
            "Discount Amount: $25.63\n",
            "Final Price After Discounts: $125.12\n"
          ]
        }
      ]
    },
    {
      "cell_type": "code",
      "source": [
        "#3. Calculate and display:\n",
        "# Initial variables\n",
        "purchase_amount = 150.75\n",
        "is_loyalty_member = True\n",
        "day_of_week = \"Saturday\"\n",
        "is_holiday_season = False\n",
        "\n",
        "# Initialize values\n",
        "final_price = purchase_amount\n",
        "discounts_applied = []\n",
        "\n",
        "# 1. Base discount based on purchase amount\n",
        "if purchase_amount > 100:\n",
        "    discount = 0.10\n",
        "    amount = purchase_amount * discount\n",
        "    final_price -= amount\n",
        "    discounts_applied.append((\"10% base discount (over $100)\", amount))\n",
        "elif purchase_amount > 50:\n",
        "    discount = 0.05\n",
        "    amount = purchase_amount * discount\n",
        "    final_price -= amount\n",
        "    discounts_applied.append((\"5% base discount (over $50)\", amount))\n",
        "\n",
        "# 2. Loyalty member discount\n",
        "if is_loyalty_member:\n",
        "    discount = 0.05\n",
        "    amount = purchase_amount * discount\n",
        "    final_price -= amount\n",
        "    discounts_applied.append((\"5% loyalty member discount\", amount))\n",
        "\n",
        "# 3. Weekend discount\n",
        "if day_of_week in [\"Saturday\", \"Sunday\"]:\n",
        "    discount = 0.02\n",
        "    amount = purchase_amount * discount\n",
        "    final_price -= amount\n",
        "    discounts_applied.append((\"2% weekend discount\", amount))\n",
        "\n",
        "# 4. Holiday season discount\n",
        "if is_holiday_season:\n",
        "    discount = 0.08\n",
        "    amount = purchase_amount * discount\n",
        "    final_price -= amount\n",
        "    discounts_applied.append((\"8% holiday season discount\", amount))\n",
        "\n",
        "# Display results\n",
        "print(f\"\\nOriginal Purchase Amount: ${purchase_amount:.2f}\")\n",
        "print(\"\\nDiscounts Applied:\")\n",
        "\n",
        "total_discount = 0\n",
        "for label, amount in discounts_applied:\n",
        "    print(f\"- {label}: -${amount:.2f}\")\n",
        "    total_discount += amount\n",
        "\n",
        "print(f\"\\nTotal Discounts: -${total_discount:.2f}\")\n",
        "print(f\"Final Price After All Discounts: ${final_price:.2f}\")\n"
      ],
      "metadata": {
        "colab": {
          "base_uri": "https://localhost:8080/"
        },
        "id": "X1_H6EpjjKrq",
        "outputId": "3b49c3a2-b598-431a-9fea-c3ba27ae69ea"
      },
      "execution_count": null,
      "outputs": [
        {
          "output_type": "stream",
          "name": "stdout",
          "text": [
            "\n",
            "Original Purchase Amount: $150.75\n",
            "\n",
            "Discounts Applied:\n",
            "- 10% base discount (over $100): -$15.08\n",
            "- 5% loyalty member discount: -$7.54\n",
            "- 2% weekend discount: -$3.02\n",
            "\n",
            "Total Discounts: -$25.63\n",
            "Final Price After All Discounts: $125.12\n"
          ]
        }
      ]
    },
    {
      "cell_type": "code",
      "source": [
        "#For Loop Assignment - Number Patterns\n",
        "#Write a Python program\n",
        "import random\n",
        "\n",
        "# 1. Set the secret number (between 1 and 50)\n",
        "secret_number = random.randint(1, 50)\n",
        "\n",
        "# 2. Initialize guess counter\n",
        "guess_count = 0\n",
        "\n",
        "print(\"🎯 Welcome to the Number Guessing Game!\")\n",
        "print(\"I'm thinking of a number between 1 and 50. Can you guess it?\")\n",
        "\n",
        "# 3. Keep asking until the player guesses correctly\n",
        "while True:\n",
        "    try:\n",
        "        guess = int(input(\"Enter your guess: \"))\n",
        "        guess_count += 1\n",
        "\n",
        "        if guess < 1 or guess > 50:\n",
        "            print(\"Please guess a number *between* 1 and 50.\")\n",
        "        elif guess < secret_number:\n",
        "            print(\"Too low! Try again 🔽\")\n",
        "        elif guess > secret_number:\n",
        "            print(\"Too high! Try again 🔼\")\n",
        "        else:\n",
        "            print(f\"🎉 Correct! You guessed it in {guess_count} attempt(s).\")\n",
        "            break\n",
        "    except ValueError:\n",
        "        print(\"Please enter a valid number! ❌\")\n"
      ],
      "metadata": {
        "colab": {
          "base_uri": "https://localhost:8080/"
        },
        "id": "ycDaRZGVjehB",
        "outputId": "51dd8744-5efe-441a-c128-13339d2f1523"
      },
      "execution_count": null,
      "outputs": [
        {
          "output_type": "stream",
          "name": "stdout",
          "text": [
            "🎯 Welcome to the Number Guessing Game!\n",
            "I'm thinking of a number between 1 and 50. Can you guess it?\n",
            "Enter your guess: 20\n",
            "Too low! Try again 🔽\n",
            "Enter your guess: 30\n",
            "Too low! Try again 🔽\n",
            "Enter your guess: 40\n",
            "Too low! Try again 🔽\n",
            "Enter your guess: 45\n",
            "Too low! Try again 🔽\n",
            "Enter your guess: 46\n",
            "Too low! Try again 🔽\n"
          ]
        }
      ]
    },
    {
      "cell_type": "code",
      "source": [
        "#Student Grade Management System\n",
        "# Student data structure\n",
        "students = [\n",
        "    {\n",
        "        \"name\": \"Alice Johnson\",\n",
        "        \"id\": 1001,\n",
        "        \"grades\": {\n",
        "            \"Math\": 85,\n",
        "            \"Science\": 90,\n",
        "            \"English\": 78\n",
        "        }\n",
        "    },\n",
        "    {\n",
        "        \"name\": \"Bob Smith\",\n",
        "        \"id\": 1002,\n",
        "        \"grades\": {\n",
        "            \"Math\": 75,\n",
        "            \"Science\": 80,\n",
        "            \"English\": 82\n",
        "        }\n",
        "    },\n",
        "    {\n",
        "        \"name\": \"Charlie Davis\",\n",
        "        \"id\": 1003,\n",
        "        \"grades\": {\n",
        "            \"Math\": 92,\n",
        "            \"Science\": 88,\n",
        "            \"English\": 95\n",
        "        }\n",
        "    }\n",
        "]\n",
        "\n",
        "# Display all students with their grades\n",
        "print(\"All Students and Their Grades:\\n\")\n",
        "for student in students:\n",
        "    print(f\"Name: {student['name']}, ID: {student['id']}\")\n",
        "    for course, grade in student['grades'].items():\n",
        "        print(f\"  {course}: {grade}\")\n",
        "    print()\n",
        "\n",
        "# Calculate and display the average grade for each student\n",
        "def calculate_average(grades):\n",
        "    return sum(grades.values()) / len(grades)\n",
        "\n",
        "print(\"Average Grades:\\n\")\n",
        "for student in students:\n",
        "    avg = calculate_average(student['grades'])\n",
        "    print(f\"{student['name']} - Average Grade: {avg:.2f}\")\n",
        "print()\n",
        "\n",
        "# Find and display the student with the highest average grade\n",
        "highest_avg = 0\n",
        "top_student = None\n",
        "for student in students:\n",
        "    avg = calculate_average(student['grades'])\n",
        "    if avg > highest_avg:\n",
        "        highest_avg = avg\n",
        "        top_student = student\n",
        "\n",
        "print(f\"Top Student: {top_student['name']} with an average of {highest_avg:.2f}\\n\")\n",
        "\n",
        "# List all students with an average grade above 80\n",
        "print(\"Students with Average Grade Above 80:\\n\")\n",
        "for student in students:\n",
        "    avg = calculate_average(student['grades'])\n",
        "    if avg > 80:\n",
        "        print(f\"{student['name']} - Average: {avg:.2f}\")\n",
        "print()\n",
        "\n",
        "# Calculate and display the average grade for a specific course\n",
        "course_name = \"Math\"\n",
        "total = 0\n",
        "count = 0\n",
        "for student in students:\n",
        "    if course_name in student['grades']:\n",
        "        total += student['grades'][course_name]\n",
        "        count += 1\n",
        "\n",
        "if count > 0:\n",
        "    course_avg = total / count\n",
        "    print(f\"Average grade for {course_name}: {course_avg:.2f}\\n\")\n",
        "else:\n",
        "    print(f\"No grades found for course: {course_name}\\n\")\n",
        "\n",
        "# Add a new student to the system\n",
        "new_student = {\n",
        "    \"name\": \"Dana Lee\",\n",
        "    \"id\": 1004,\n",
        "    \"grades\": {\n",
        "        \"Math\": 89,\n",
        "        \"Science\": 84,\n",
        "        \"English\": 91\n",
        "    }\n",
        "}\n",
        "students.append(new_student)\n",
        "print(\"New student added: Dana Lee\\n\")\n",
        "\n",
        "# Display all students again to confirm addition\n",
        "print(\"Updated List of Students:\\n\")\n",
        "for student in students:\n",
        "    print(f\"Name: {student['name']}, ID: {student['id']}\")\n",
        "    for course, grade in student['grades'].items():\n",
        "        print(f\"  {course}: {grade}\")\n",
        "    print()\n"
      ],
      "metadata": {
        "colab": {
          "base_uri": "https://localhost:8080/"
        },
        "id": "SRDmstIVNG1d",
        "outputId": "feda3979-c8a6-4994-be8f-f1404db37763"
      },
      "execution_count": null,
      "outputs": [
        {
          "output_type": "stream",
          "name": "stdout",
          "text": [
            "All Students and Their Grades:\n",
            "\n",
            "Name: Alice Johnson, ID: 1001\n",
            "  Math: 85\n",
            "  Science: 90\n",
            "  English: 78\n",
            "\n",
            "Name: Bob Smith, ID: 1002\n",
            "  Math: 75\n",
            "  Science: 80\n",
            "  English: 82\n",
            "\n",
            "Name: Charlie Davis, ID: 1003\n",
            "  Math: 92\n",
            "  Science: 88\n",
            "  English: 95\n",
            "\n",
            "Average Grades:\n",
            "\n",
            "Alice Johnson - Average Grade: 84.33\n",
            "Bob Smith - Average Grade: 79.00\n",
            "Charlie Davis - Average Grade: 91.67\n",
            "\n",
            "Top Student: Charlie Davis with an average of 91.67\n",
            "\n",
            "Students with Average Grade Above 80:\n",
            "\n",
            "Alice Johnson - Average: 84.33\n",
            "Charlie Davis - Average: 91.67\n",
            "\n",
            "Average grade for Math: 84.00\n",
            "\n",
            "New student added: Dana Lee\n",
            "\n",
            "Updated List of Students:\n",
            "\n",
            "Name: Alice Johnson, ID: 1001\n",
            "  Math: 85\n",
            "  Science: 90\n",
            "  English: 78\n",
            "\n",
            "Name: Bob Smith, ID: 1002\n",
            "  Math: 75\n",
            "  Science: 80\n",
            "  English: 82\n",
            "\n",
            "Name: Charlie Davis, ID: 1003\n",
            "  Math: 92\n",
            "  Science: 88\n",
            "  English: 95\n",
            "\n",
            "Name: Dana Lee, ID: 1004\n",
            "  Math: 89\n",
            "  Science: 84\n",
            "  English: 91\n",
            "\n"
          ]
        }
      ]
    }
  ]
}